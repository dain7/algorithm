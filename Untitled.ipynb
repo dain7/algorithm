{
 "cells": [
  {
   "cell_type": "code",
   "execution_count": 25,
   "id": "b9b824db-3855-496d-b0a6-3cc3c9cfe67b",
   "metadata": {
    "scrolled": true
   },
   "outputs": [
    {
     "name": "stdin",
     "output_type": "stream",
     "text": [
      " 5 4\n",
      " 1 2\n",
      " 3 4\n",
      " 1 4\n",
      " 2 2\n"
     ]
    },
    {
     "name": "stdout",
     "output_type": "stream",
     "text": [
      "2 3 0 1 4\n"
     ]
    }
   ],
   "source": [
    "N, M = map(int, input().split())\n",
    "l = [i for i in range(1, N+1)]\n",
    "for _ in range(M):\n",
    "    a, b = map(int, input().split())\n",
    "    temp = l[a-1:b]\n",
    "    temp.reverse()\n",
    "    l[a-1:b] = temp \n",
    "print(*l)\n"
   ]
  },
  {
   "cell_type": "code",
   "execution_count": null,
   "id": "556f1733-3d19-4ef7-a074-ca9f0f9fa0b5",
   "metadata": {},
   "outputs": [],
   "source": []
  },
  {
   "cell_type": "code",
   "execution_count": null,
   "id": "1babaf15-8624-4709-afc2-0c1f5f521c1d",
   "metadata": {},
   "outputs": [],
   "source": [
    "d"
   ]
  },
  {
   "cell_type": "code",
   "execution_count": null,
   "id": "9b8190cb-36c9-4e08-9444-8f6c31160289",
   "metadata": {},
   "outputs": [],
   "source": []
  },
  {
   "cell_type": "code",
   "execution_count": null,
   "id": "3ba28738-f0e0-4e82-91f1-47bd53bda03f",
   "metadata": {},
   "outputs": [],
   "source": []
  }
 ],
 "metadata": {
  "kernelspec": {
   "display_name": "Python 3 (ipykernel)",
   "language": "python",
   "name": "python3"
  },
  "language_info": {
   "codemirror_mode": {
    "name": "ipython",
    "version": 3
   },
   "file_extension": ".py",
   "mimetype": "text/x-python",
   "name": "python",
   "nbconvert_exporter": "python",
   "pygments_lexer": "ipython3",
   "version": "3.11.6"
  }
 },
 "nbformat": 4,
 "nbformat_minor": 5
}
