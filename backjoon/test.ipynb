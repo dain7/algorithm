{
 "cells": [
  {
   "cell_type": "code",
   "execution_count": 12,
   "id": "433e47c5-08d1-42b9-ac6b-c150ed0b3ba1",
   "metadata": {},
   "outputs": [
    {
     "name": "stdin",
     "output_type": "stream",
     "text": [
      " 1\n",
      " 15 13\n"
     ]
    },
    {
     "name": "stdout",
     "output_type": "stream",
     "text": [
      "0\n"
     ]
    }
   ],
   "source": [
    "n = int(input())\n",
    "\n",
    "min_x = 99999\n",
    "min_y = 99999\n",
    "max_x = -99999\n",
    "max_y = -99999\n",
    "\n",
    "for _ in range(n):\n",
    "    x, y = map(int, input().split())\n",
    "    if x < min_x:\n",
    "        min_x = x\n",
    "    if x > max_x:\n",
    "        max_x = x\n",
    "    if y < min_y:\n",
    "        min_y = y\n",
    "    if y > max_y:\n",
    "        max_y = y\n",
    "\n",
    "print((max_x-min_x)*(max_y-min_y))"
   ]
  },
  {
   "cell_type": "code",
   "execution_count": null,
   "id": "9205151f-d160-42de-885e-fcf2c3fffb5c",
   "metadata": {},
   "outputs": [],
   "source": []
  }
 ],
 "metadata": {
  "kernelspec": {
   "display_name": "Python 3 (ipykernel)",
   "language": "python",
   "name": "python3"
  },
  "language_info": {
   "codemirror_mode": {
    "name": "ipython",
    "version": 3
   },
   "file_extension": ".py",
   "mimetype": "text/x-python",
   "name": "python",
   "nbconvert_exporter": "python",
   "pygments_lexer": "ipython3",
   "version": "3.11.6"
  }
 },
 "nbformat": 4,
 "nbformat_minor": 5
}
