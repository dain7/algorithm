{
 "cells": [
  {
   "cell_type": "code",
   "execution_count": 38,
   "id": "3cc4e223-940b-4eda-b5c3-d9e88d40db3c",
   "metadata": {},
   "outputs": [
    {
     "name": "stdin",
     "output_type": "stream",
     "text": [
      " 41 64 16\n"
     ]
    },
    {
     "name": "stdout",
     "output_type": "stream",
     "text": [
      "113\n"
     ]
    }
   ],
   "source": [
    "a, b, c = map(int, input().split())\n",
    "m = max((a,b,c))\n",
    "if sum((a,b,c))-m > m:\n",
    "    print(sum((a,b,c)))\n",
    "else:\n",
    "    min_m = sum((a,b,c))-m-1\n",
    "    print(sum((a,b,c))-m + min_m)"
   ]
  },
  {
   "cell_type": "code",
   "execution_count": null,
   "id": "acf382b5-87ad-447d-bd23-b926d94eeb78",
   "metadata": {},
   "outputs": [],
   "source": []
  },
  {
   "cell_type": "code",
   "execution_count": null,
   "id": "84ed462c-0a0b-4140-bb58-fdab3c4b3957",
   "metadata": {},
   "outputs": [],
   "source": []
  },
  {
   "cell_type": "code",
   "execution_count": null,
   "id": "9205151f-d160-42de-885e-fcf2c3fffb5c",
   "metadata": {},
   "outputs": [],
   "source": []
  }
 ],
 "metadata": {
  "kernelspec": {
   "display_name": "Python 3 (ipykernel)",
   "language": "python",
   "name": "python3"
  },
  "language_info": {
   "codemirror_mode": {
    "name": "ipython",
    "version": 3
   },
   "file_extension": ".py",
   "mimetype": "text/x-python",
   "name": "python",
   "nbconvert_exporter": "python",
   "pygments_lexer": "ipython3",
   "version": "3.11.6"
  }
 },
 "nbformat": 4,
 "nbformat_minor": 5
}
