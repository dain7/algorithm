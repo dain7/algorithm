{
 "cells": [
  {
   "cell_type": "markdown",
   "id": "f85e7231-ce46-4a7c-a7c1-b7f6b443ec32",
   "metadata": {
    "scrolled": true
   },
   "source": [
    "## n = int(input())\n",
    "p = [25, 10, 5, 1]\n",
    "cents = []\n",
    "for _ in range(3):\n",
    "    cent = int(input())\n",
    "    centcs.append(cent)\n",
    "for c in cents:\n",
    "   answer = []\n",
    "   c = int(input())\n",
    "   answer.append(c//p[0])\n",
    "   c = c % p[0]\n",
    "   answer.append(c//p[1])\n",
    "   c = c % p[1]\n",
    "   answer.append(c//p[2])\n",
    "   c = c % p[2]\n",
    "   answer.append(c//p[3])\n",
    "   c = c % p[3]\n",
    "   print(*answer)"
   ]
  },
  {
   "cell_type": "code",
   "execution_count": null,
   "id": "b91e93e5-3086-4d6e-8654-9a75faee4d23",
   "metadata": {},
   "outputs": [],
   "source": [
    "n = int(input())\n",
    "p = [25, 10, 5, 1] \n",
    "\n",
    "for _ in range(n): \n",
    "    answer = []\n",
    "    c = int(input()) \n",
    "    answer.append(c//p[0]) \n",
    "    c = c % p[0] \n",
    "    answer.append(c//p[1]) \n",
    "    c = c % p[1] \n",
    "    answer.append(c//p[2]) \n",
    "    c = c % p[2] \n",
    "    answer.append(c//p[3]) \n",
    "    c = c % p[3] \n",
    "    print(*answer)\n",
    "\n",
    "    "
   ]
  }
 ],
 "metadata": {
  "kernelspec": {
   "display_name": "Python 3 (ipykernel)",
   "language": "python",
   "name": "python3"
  },
  "language_info": {
   "codemirror_mode": {
    "name": "ipython",
    "version": 3
   },
   "file_extension": ".py",
   "mimetype": "text/x-python",
   "name": "python",
   "nbconvert_exporter": "python",
   "pygments_lexer": "ipython3",
   "version": "3.11.6"
  }
 },
 "nbformat": 4,
 "nbformat_minor": 5
}
