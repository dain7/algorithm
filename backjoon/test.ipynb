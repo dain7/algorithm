{
 "cells": [
  {
   "cell_type": "code",
   "execution_count": 65,
   "id": "3cc4e223-940b-4eda-b5c3-d9e88d40db3c",
   "metadata": {},
   "outputs": [
    {
     "name": "stdin",
     "output_type": "stream",
     "text": [
      " 7\n"
     ]
    },
    {
     "name": "stdout",
     "output_type": "stream",
     "text": [
      "15\n",
      "3\n"
     ]
    }
   ],
   "source": [
    "n = int(input())\n",
    "answer = 0\n",
    "\n",
    "for i in range(n-1):\n",
    "    answer += i\n",
    "print(\"\"\"%i\n",
    "3\"\"\" % answer)"
   ]
  },
  {
   "cell_type": "code",
   "execution_count": null,
   "id": "7555b9bb-e09e-443a-b255-1fc83b92935d",
   "metadata": {},
   "outputs": [],
   "source": []
  },
  {
   "cell_type": "code",
   "execution_count": null,
   "id": "44cde4fe-fe73-467f-baed-a5a077145dd5",
   "metadata": {},
   "outputs": [],
   "source": []
  },
  {
   "cell_type": "code",
   "execution_count": null,
   "id": "acf382b5-87ad-447d-bd23-b926d94eeb78",
   "metadata": {},
   "outputs": [],
   "source": []
  },
  {
   "cell_type": "code",
   "execution_count": null,
   "id": "84ed462c-0a0b-4140-bb58-fdab3c4b3957",
   "metadata": {},
   "outputs": [],
   "source": []
  },
  {
   "cell_type": "code",
   "execution_count": null,
   "id": "9205151f-d160-42de-885e-fcf2c3fffb5c",
   "metadata": {},
   "outputs": [],
   "source": []
  }
 ],
 "metadata": {
  "kernelspec": {
   "display_name": "Python 3 (ipykernel)",
   "language": "python",
   "name": "python3"
  },
  "language_info": {
   "codemirror_mode": {
    "name": "ipython",
    "version": 3
   },
   "file_extension": ".py",
   "mimetype": "text/x-python",
   "name": "python",
   "nbconvert_exporter": "python",
   "pygments_lexer": "ipython3",
   "version": "3.11.6"
  }
 },
 "nbformat": 4,
 "nbformat_minor": 5
}
