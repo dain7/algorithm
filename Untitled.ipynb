{
 "cells": [
  {
   "cell_type": "code",
   "execution_count": 11,
   "id": "b9b824db-3855-496d-b0a6-3cc3c9cfe67b",
   "metadata": {
    "scrolled": true
   },
   "outputs": [
    {
     "name": "stdin",
     "output_type": "stream",
     "text": [
      " a 3.0 A+\n",
      " a 3.0 A+\n",
      " a 3.0 A0\n",
      " a 3.0 A+\n",
      " a 3.0 A+\n",
      " a 3.0 B0\n",
      " a 3.0 A0\n",
      " a 3.0 B0\n",
      " a 3.0 B0\n",
      " a 3.0 C+\n",
      " a 3.0 B0\n",
      " a 4.0 A+\n",
      " a 3.0 B+\n",
      " a 3.0 C0\n",
      " a 3.0 D+\n",
      " a 3.0 C+\n",
      " a 3.0 B0\n",
      " a 3.0 B+\n",
      " a 3.0 D0\n",
      " a 4.0 P\n"
     ]
    },
    {
     "name": "stdout",
     "output_type": "stream",
     "text": [
      "3.0725806451612905\n"
     ]
    }
   ],
   "source": [
    "rate = 0\n",
    "scoreSum = 0\n",
    "\n",
    "m = {\n",
    "    'A+' : 4.5,\n",
    "    'A0' : 4.0,\n",
    "    'B+' : 3.5,\n",
    "    'B0' : 3.0,\n",
    "    'C+' : 2.5,\n",
    "    'C0' : 2.0,\n",
    "    'D+' : 1.5,\n",
    "    'D0' : 1.0,\n",
    "    'F' : 0.0\n",
    "}\n",
    "\n",
    "for _ in range(20):\n",
    "    subject, score, grade = input().split()\n",
    "    if grade == 'P':\n",
    "        continue\n",
    "    scoreSum += float(score)\n",
    "    rate += m[grade] * float(score)\n",
    "print(rate / scoreSum)\n",
    "\n",
    "\n",
    "\n"
   ]
  },
  {
   "cell_type": "code",
   "execution_count": null,
   "id": "479bd98b-f0f2-4b92-a8f3-81ec42a2cea7",
   "metadata": {},
   "outputs": [],
   "source": []
  },
  {
   "cell_type": "code",
   "execution_count": null,
   "id": "752af17f-7001-4fa8-aed7-27f72a8a735c",
   "metadata": {},
   "outputs": [],
   "source": []
  },
  {
   "cell_type": "code",
   "execution_count": null,
   "id": "05220707-9e95-430e-8f5a-9eb053099809",
   "metadata": {},
   "outputs": [],
   "source": []
  },
  {
   "cell_type": "code",
   "execution_count": 35,
   "id": "556f1733-3d19-4ef7-a074-ca9f0f9fa0b5",
   "metadata": {},
   "outputs": [
    {
     "name": "stdin",
     "output_type": "stream",
     "text": [
      " 2 1 2 1 2 1\n"
     ]
    },
    {
     "name": "stdout",
     "output_type": "stream",
     "text": [
      "-1 0 0 1 0 7\n"
     ]
    }
   ],
   "source": [
    "s = list(input())\n",
    "r_s = s[::-1]\n",
    "print(1 if s == r_s else 0)\n"
   ]
  }
 ],
 "metadata": {
  "kernelspec": {
   "display_name": "Python 3 (ipykernel)",
   "language": "python",
   "name": "python3"
  },
  "language_info": {
   "codemirror_mode": {
    "name": "ipython",
    "version": 3
   },
   "file_extension": ".py",
   "mimetype": "text/x-python",
   "name": "python",
   "nbconvert_exporter": "python",
   "pygments_lexer": "ipython3",
   "version": "3.11.6"
  }
 },
 "nbformat": 4,
 "nbformat_minor": 5
}
